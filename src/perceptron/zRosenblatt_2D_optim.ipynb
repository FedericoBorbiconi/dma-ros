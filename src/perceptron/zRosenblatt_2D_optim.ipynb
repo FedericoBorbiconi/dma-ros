{
  "nbformat": 4,
  "nbformat_minor": 0,
  "metadata": {
    "colab": {
      "provenance": []
    },
    "kernelspec": {
      "name": "python3",
      "display_name": "Python 3"
    },
    "language_info": {
      "name": "python"
    }
  },
  "cells": [
    {
      "cell_type": "markdown",
      "source": [
        "# Perceptron de Rosenblatt  optimizado"
      ],
      "metadata": {
        "id": "wpZAAQH_AnX1"
      }
    },
    {
      "cell_type": "markdown",
      "source": [
        "## Algoritmo de Rosenblatt"
      ],
      "metadata": {
        "id": "7Th3H_XoMFEY"
      }
    },
    {
      "cell_type": "markdown",
      "source": [
        "### Pseudocódigo del Algoritmo de Rosenblatt"
      ],
      "metadata": {
        "id": "tPXCnr1FVsme"
      }
    },
    {
      "cell_type": "markdown",
      "source": [
        "%%html\n",
        "<img src='https://storage.googleapis.com/open-courses/imagenes-5c33/PeceptronEntrenamiento.jpg' />"
      ],
      "metadata": {
        "id": "xcCGzEJ0XHSZ"
      }
    },
    {
      "cell_type": "markdown",
      "source": [
        "### Código en Python del Algoritmo de Rosenblatt"
      ],
      "metadata": {
        "id": "f3MCES9WMJEw"
      }
    },
    {
      "cell_type": "markdown",
      "source": [
        "Código en Python que grafica como va evolucionando la recta que separa a los positivos de los negativos"
      ],
      "metadata": {
        "id": "GsDfkqXaZR5q"
      }
    },
    {
      "cell_type": "code",
      "source": [
        "# conexion al Google Drive\n",
        "from google.colab import drive\n",
        "drive.mount('/content/.drive')\n",
        "!mkdir -p \"/content/.drive/My Drive/DMA\"\n",
        "!mkdir -p \"/content/buckets\"\n",
        "!ln -s \"/content/.drive/My Drive/DMA\" /content/buckets/b1"
      ],
      "metadata": {
        "id": "_0XkHjieK2xD"
      },
      "execution_count": null,
      "outputs": []
    },
    {
      "cell_type": "code",
      "source": [
        "import numpy as np\n",
        "import matplotlib.pyplot as plt\n",
        "%matplotlib inline\n",
        "from IPython import display\n",
        "import time"
      ],
      "metadata": {
        "id": "ejqYzmGGLADY"
      },
      "execution_count": null,
      "outputs": []
    },
    {
      "cell_type": "code",
      "source": [
        "# Ejemplo, usted deberá generar sus propios puntos en el plano\n",
        "#  los que mandatoriamente deben ser separables por una recta\n",
        "\n",
        "registros = [ [0.7, 1.3], [2.0, 1.1], [1.0, 1.9],\n",
        "            [3.0, 1.0], [1.5, 2.1] ]\n",
        "clases = [0,0,0,1,1]\n"
      ],
      "metadata": {
        "id": "SpZ4JF8pLD11"
      },
      "execution_count": null,
      "outputs": []
    },
    {
      "cell_type": "code",
      "source": [
        "# Paso las listas a numpy\n",
        "X = np.array(registros)\n",
        "Y = np.array(clases)"
      ],
      "metadata": {
        "id": "g8vhhU-qLNz6"
      },
      "execution_count": null,
      "outputs": []
    },
    {
      "cell_type": "code",
      "source": [
        "# Tamano datos\n",
        "X_row = X.shape[0]\n",
        "X_col = X.shape[1]"
      ],
      "metadata": {
        "id": "lvJ_Peb2bLWj"
      },
      "execution_count": null,
      "outputs": []
    },
    {
      "cell_type": "code",
      "source": [
        "class perceptron_plot:\n",
        "    def __init__(self, X, Y, delay) -> None:\n",
        "        self.X = X\n",
        "        self.Y = Y\n",
        "        self.delay = delay\n",
        "        x1_min = np.min(X[:,0])\n",
        "        x2_min = np.min(X[:,1])\n",
        "        x1_max = np.max(X[:,0])\n",
        "        x2_max = np.max(X[:,1])\n",
        "        self.x1_min = x1_min - 0.75*(x1_max - x1_min)\n",
        "        self.x1_max = x1_max + 0.75*(x1_max - x1_min)\n",
        "        self.x2_min = x2_min - 0.75*(x2_max - x2_min)\n",
        "        self.x2_max = x2_max + 0.75*(x2_max - x2_min)\n",
        "        self.fig = plt.figure(figsize = (10,8))\n",
        "        self.ax = self.fig.subplots()\n",
        "        self.ax.set_xlim(self.x1_min, self.x1_max, auto=False)\n",
        "        self.ax.set_ylim(self.x2_min, self.x2_max, auto=False)\n",
        "\n",
        "    def graficar(self, W, x0, epoch, fila) -> None:\n",
        "        display.clear_output(wait =True)\n",
        "        plt.cla()\n",
        "        #self.ax = self.fig.subplots()\n",
        "\n",
        "        self.ax.set_xlim(self.x1_min, self.x1_max)\n",
        "        self.ax.set_ylim(self.x2_min, self.x2_max)\n",
        "        plt.title( 'epoch ' + str(epoch) + '  reg ' + str(fila) )\n",
        "        # ploteo puntos positivos\n",
        "        self.ax.plot(self.X[self.Y==1,0], self.X[self.Y==1,1], 'o', color=\"green\", markersize=10)\n",
        "        # ploteo puntos negativos\n",
        "        self.ax.plot(self.X[self.Y==0,0], self.X[self.Y==0,1], 'o', color=\"blue\", markersize=10)\n",
        "\n",
        "        # Sobreploteo el punto que no coincidio\n",
        "        if(fila>=0):\n",
        "            self.ax.plot(self.X[fila,0], self.X[fila,1], 'o',\n",
        "                         color= ('green' if self.Y[fila]==1 else 'blue'),\n",
        "                         markersize= 12, markeredgecolor= 'red')\n",
        "\n",
        "        #dibujo le recta\n",
        "        vx2_min = -(W[0]*self.x1_min + x0)/W[1]\n",
        "        vx2_max = -(W[0]*self.x1_max + x0)/W[1]\n",
        "\n",
        "        self.ax.plot([self.x1_min, self.x1_max],\n",
        "                     [vx2_min, vx2_max],\n",
        "                     linewidth = 2,\n",
        "                     color = 'red',\n",
        "                     alpha = 0.5)\n",
        "\n",
        "        display.display(plt.gcf())\n",
        "        #plt.cla()\n",
        "        time.sleep(self.delay)\n",
        "\n",
        "\n",
        "    def graficarVarias(self, W, x0, epoch, fila) -> None:\n",
        "        display.clear_output(wait =True)\n",
        "        plt.cla()\n",
        "        #self.ax = self.fig.subplots()\n",
        "\n",
        "        self.ax.set_xlim(self.x1_min, self.x1_max)\n",
        "        self.ax.set_ylim(self.x2_min, self.x2_max)\n",
        "        plt.title( 'epoch ' + str(epoch) + '  reg ' + str(fila))\n",
        "        # ploteo puntos positivos\n",
        "        self.ax.plot(self.X[self.Y==1,0], self.X[self.Y==1,1], 'o', color=\"green\", markersize=10)\n",
        "        # ploteo puntos negativos\n",
        "        self.ax.plot(self.X[self.Y==-1,0], self.X[self.Y==-1,1], 'o', color=\"blue\", markersize=10)\n",
        "        self.ax.plot(self.X[self.Y==0,0], self.X[self.Y==0,1], 'o', color=\"blue\", markersize=10)\n",
        "\n",
        "        # Sobreploteo el punto que no coincidio\n",
        "        if(fila>=0):\n",
        "            self.ax.plot(self.X[fila,0], self.X[fila,1], 'o',\n",
        "                         color= ('green' if self.Y[fila]==1 else 'blue'),\n",
        "                         markersize= 12, markeredgecolor= 'red')\n",
        "\n",
        "        # dibujo las rectas\n",
        "        for i in range(len(x0)):\n",
        "            #vx2_min = -(W[0,i]*self.x1_min + x0[i])/W[1,i]\n",
        "            #vx2_max = -(W[0,i]*self.x1_max + x0[i])/W[1,i]\n",
        "            vx2_min = -(W[i,0]*self.x1_min + x0[i])/W[i,1]\n",
        "            vx2_max = -(W[i,0]*self.x1_max + x0[i])/W[i,1]\n",
        "\n",
        "            self.ax.plot([self.x1_min, self.x1_max],\n",
        "                         [vx2_min, vx2_max],\n",
        "                         linewidth = 2,\n",
        "                         color = 'red',\n",
        "                         alpha = 0.5)\n",
        "\n",
        "        display.display(plt.gcf())\n",
        "        #plt.cla()\n",
        "        time.sleep(self.delay)\n"
      ],
      "metadata": {
        "id": "3bYjXyHqLQFe"
      },
      "execution_count": null,
      "outputs": []
    },
    {
      "cell_type": "code",
      "source": [
        "# Incializo la recta azarosamente\n",
        "\n",
        "# seteo de la semilla aleatoria\n",
        "np.random.seed(102191) # mi querida random seed para que las corridas sean reproducibles"
      ],
      "metadata": {
        "id": "Sr3jG9g7fPeU"
      },
      "execution_count": null,
      "outputs": []
    },
    {
      "cell_type": "code",
      "source": [
        "# inicializo < x0, W >\n",
        "x0 = np.random.uniform(-0.5, 0.5)\n",
        "W = np.array( np.random.uniform(-0.5, 0.5, size=X_col))"
      ],
      "metadata": {
        "id": "pWseyXcQLklN"
      },
      "execution_count": null,
      "outputs": []
    },
    {
      "cell_type": "code",
      "source": [
        "# Limite de lo que estoy dispuesto a trabajar\n",
        "epoch_limit = 500    # para terminar si no converge"
      ],
      "metadata": {
        "id": "2CvW7ZS8LoUt"
      },
      "execution_count": null,
      "outputs": []
    },
    {
      "cell_type": "code",
      "source": [
        "# controla la velocidad de convergencia\n",
        "learning_rate = 0.01"
      ],
      "metadata": {
        "id": "5iVeHxOJjFIM"
      },
      "execution_count": null,
      "outputs": []
    },
    {
      "cell_type": "code",
      "source": [
        "# controla cada cuanto se grafica un epoch\n",
        "demora_impresion = 1.0  # segundos"
      ],
      "metadata": {
        "id": "ykUVBKzlZBxy"
      },
      "execution_count": null,
      "outputs": []
    },
    {
      "cell_type": "code",
      "source": [
        "# inicializaciones del buble\n",
        "modificados = 1      # lo debo poner algo distinto a 0 la primera vez\n",
        "epoch = 0"
      ],
      "metadata": {
        "id": "s8oBAECNjKmt"
      },
      "execution_count": null,
      "outputs": []
    },
    {
      "cell_type": "code",
      "source": [
        "# el bucle principal del algoritmo de Rosenblatt\n",
        "\n",
        "grafico = perceptron_plot(X=X, Y=Y, delay=demora_impresion)\n",
        "\n",
        "# bucle principal del algoritmo de Rosenblatt\n",
        "# continuo mientras en la iteración anterior modifique algo  y NO llegué al límite de epochs\n",
        "while (modificados and (epoch < epoch_limit)):\n",
        "    epoch += 1\n",
        "    modificados = 0  # lo seteo en cero\n",
        "\n",
        "    # recorro siempre TODOS los registros de entrada\n",
        "    for fila in range(X_row):\n",
        "        # fila es el registro actual\n",
        "        x = X[fila,]\n",
        "        clase = Y[fila]\n",
        "        # calculo el estimulo suma, producto interno\n",
        "        estimulo = x0*1 + W[0]*x[0] + W[1]*x[1]\n",
        "\n",
        "        y = (estimulo > 0 )\n",
        "\n",
        "        # solo si la prediccion es incorrecta  actualizo  < x0, W >\n",
        "        gradiente = clase - y\n",
        "        if(gradiente != 0):\n",
        "            modificados += 1  # encontre un registro que esta mal clasificado\n",
        "            # actualizo W y x0\n",
        "            W[0] = W[0] + learning_rate * gradiente * x[0]\n",
        "            W[1] = W[1] + learning_rate * gradiente * x[1]\n",
        "            x0 =   x0   + learning_rate * gradiente * 1\n",
        "            grafico.graficar(W, x0, epoch, fila) # actualizo grafico\n"
      ],
      "metadata": {
        "id": "G7Hd3D_FLs0Z"
      },
      "execution_count": null,
      "outputs": []
    },
    {
      "cell_type": "code",
      "source": [
        "grafico = perceptron_plot(X, Y, 0)\n",
        "grafico.graficar(W, x0, epoch, -1)"
      ],
      "metadata": {
        "id": "4Zq2YUgNLwfd"
      },
      "execution_count": null,
      "outputs": []
    },
    {
      "cell_type": "code",
      "source": [
        "# la cantidad de epochs necesarias hasta encontrar una solucion\n",
        "print(\"Para converger hicieron falta epochs=\",epoch)"
      ],
      "metadata": {
        "id": "JB4k9EeALy-e"
      },
      "execution_count": null,
      "outputs": []
    },
    {
      "cell_type": "code",
      "source": [
        "# el vector solución W\n",
        "print( \"La solucion es W = \", W)"
      ],
      "metadata": {
        "id": "6iqEFzBOexHx"
      },
      "execution_count": null,
      "outputs": []
    },
    {
      "cell_type": "code",
      "source": [
        "# El  \"bias\"  o componente  x0\n",
        "print( \"La solucion es en la dimension artificial x0 = \", x0)"
      ],
      "metadata": {
        "id": "ucL2v5Bne1FH"
      },
      "execution_count": null,
      "outputs": []
    },
    {
      "cell_type": "markdown",
      "source": [],
      "metadata": {
        "id": "ECAt2tDwKzPb"
      }
    }
  ]
}