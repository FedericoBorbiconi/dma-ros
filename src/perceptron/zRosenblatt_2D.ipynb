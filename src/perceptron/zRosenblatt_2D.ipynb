{
  "nbformat": 4,
  "nbformat_minor": 0,
  "metadata": {
    "colab": {
      "provenance": []
    },
    "kernelspec": {
      "name": "python3",
      "display_name": "Python 3"
    },
    "language_info": {
      "name": "python"
    }
  },
  "cells": [
    {
      "cell_type": "markdown",
      "source": [
        "# Perceptron de Rosenblatt"
      ],
      "metadata": {
        "id": "wpZAAQH_AnX1"
      }
    },
    {
      "cell_type": "markdown",
      "source": [
        "## Big Picture"
      ],
      "metadata": {
        "id": "ldkzf-kNOooG"
      }
    },
    {
      "cell_type": "markdown",
      "source": [
        "%%html\n",
        "<img src= 'https://storage.googleapis.com/open-courses/imagenes-5c33/DeepLearningTimeline.jpg' />"
      ],
      "metadata": {
        "id": "66I37uRFOu2B"
      }
    },
    {
      "cell_type": "markdown",
      "source": [
        "## Objetivo desde el punto de vista Matemático"
      ],
      "metadata": {
        "id": "5WLeolPFG6MX"
      }
    },
    {
      "cell_type": "markdown",
      "source": [
        "%%html\n",
        "<img src= 'https://storage.googleapis.com/open-courses/imagenes-5c33/DecisionBoundary.jpg' />\n",
        "\n",
        "El el caso más simple, se parte de un conjunto de registros positivos y otro negativos en un espacio n-dimensional los que son separables por (infinitos) hiperplanos, encontrar uno de esos hiperplanos\n",
        "Se tiene como input los puntos verdes y azules, generar como salida la recta roja"
      ],
      "metadata": {
        "id": "YczJGmypG9sc"
      }
    },
    {
      "cell_type": "markdown",
      "source": [
        "## Trabajo de Frank Rosenblatt"
      ],
      "metadata": {
        "id": "uDSWsj2KDpkj"
      }
    },
    {
      "cell_type": "markdown",
      "source": [
        "%%html\n",
        "<img src='https://storage.googleapis.com/open-courses/imagenes-5c33/0925_rosenblatt_main.jpg' />\n",
        "\n",
        "Frank Rosenblatt ’50, Ph.D. ’56, works on the “electronic profile analyzing computer” – a precursor to the perceptron."
      ],
      "metadata": {
        "id": "qLaHQ6PwA-sz"
      }
    },
    {
      "cell_type": "markdown",
      "source": [
        "%%html\n",
        "<img src='https://storage.googleapis.com/open-courses/imagenes-5c33/0925_rosenblatt2.jpg' />\n",
        "\n",
        "The first page of Rosenblatt's article, “The Design of an Intelligent Automaton,” in Research Trends, a Cornell Aeronautical Laboratory publication, Summer 1958."
      ],
      "metadata": {
        "id": "B8LmXiY8DBFo"
      }
    },
    {
      "cell_type": "markdown",
      "source": [
        "%%html\n",
        "<img src='https://storage.googleapis.com/open-courses/imagenes-5c33/1153px-Organization_of_a_biological_brain_and_a_perceptron.png' />\n",
        "\n",
        "Organization of a biological brain and a perceptron."
      ],
      "metadata": {
        "id": "LZrNZv51EIXa"
      }
    },
    {
      "cell_type": "markdown",
      "source": [
        "## Neurona Biologica\n",
        "\n",
        "<img src='https://storage.googleapis.com/open-courses/imagenes-5c33/Neuron3.png' />"
      ],
      "metadata": {
        "id": "mN7FzBhXJKTQ"
      }
    },
    {
      "cell_type": "markdown",
      "source": [
        "En el cerebro humano hay alrededor de 8.6 x 10^10  neuronas,\n",
        "cada neurona en promedio se conecta con otras 7000, el cerebro humano tiene 1.6 x 10^13 parámetros\n"
      ],
      "metadata": {
        "id": "UyZqCjneJlqw"
      }
    },
    {
      "cell_type": "markdown",
      "source": [
        "https://hms.harvard.edu/news/new-field-neuroscience-aims-map-connections-brain"
      ],
      "metadata": {
        "id": "kHP5fSznKFWu"
      }
    },
    {
      "cell_type": "markdown",
      "source": [
        "https://www.beren.io/2022-08-06-The-scale-of-the-brain-vs-machine-learning/"
      ],
      "metadata": {
        "id": "4yL7TGWEKyy7"
      }
    },
    {
      "cell_type": "markdown",
      "source": [
        "## Concepto matemático de Perceptron"
      ],
      "metadata": {
        "id": "3VkoYsz0DtkM"
      }
    },
    {
      "cell_type": "markdown",
      "source": [
        "%%html\n",
        "<img src='https://storage.googleapis.com/open-courses/imagenes-5c33/perceptron_elemental.jpg' />\n"
      ],
      "metadata": {
        "id": "Z_QPjmzJDz1h"
      }
    },
    {
      "cell_type": "markdown",
      "source": [
        "%%html\n",
        "<img src='https://storage.googleapis.com/open-courses/imagenes-5c33/activation_function.png' />\n",
        "\n",
        "Funcion de activacion escalón  {0,1}\n"
      ],
      "metadata": {
        "id": "j6ssdibgLZSM"
      }
    },
    {
      "cell_type": "markdown",
      "source": [
        "## Algoritmo de Rosenblatt"
      ],
      "metadata": {
        "id": "7Th3H_XoMFEY"
      }
    },
    {
      "cell_type": "markdown",
      "source": [
        "### Intuición"
      ],
      "metadata": {
        "id": "ecxa0a0tXMfg"
      }
    },
    {
      "cell_type": "markdown",
      "source": [
        "%%html\n",
        "<img src='https://storage.googleapis.com/open-courses/imagenes-5c33/geometric_intuition.png' />\n",
        "\n",
        "Illustration of a Perceptron update. (Left:) The hyperplane defined by wt\n",
        " misclassifies one red (-1) and one blue (+1) point. (Middle:) The red point x\n",
        " is chosen and used for an update. Because its label is -1 we need to subtract x\n",
        " from wt\n",
        ". (Right:) The udpated hyperplane wt+1=wt−x\n",
        " separates the two classes and the Perceptron algorithm has converged.\n"
      ],
      "metadata": {
        "id": "Nuk-ViCyXO9B"
      }
    },
    {
      "cell_type": "markdown",
      "source": [
        "### Pseudocódigo del Algoritmo de Rosenblatt"
      ],
      "metadata": {
        "id": "tPXCnr1FVsme"
      }
    },
    {
      "cell_type": "markdown",
      "source": [
        "%%html\n",
        "<img src='https://storage.googleapis.com/open-courses/imagenes-5c33/PeceptronEntrenamiento.jpg' />"
      ],
      "metadata": {
        "id": "xcCGzEJ0XHSZ"
      }
    },
    {
      "cell_type": "markdown",
      "source": [
        "### Código en Python del Algoritmo de Rosenblatt"
      ],
      "metadata": {
        "id": "f3MCES9WMJEw"
      }
    },
    {
      "cell_type": "markdown",
      "source": [
        "Código en Python que grafica como va evolucionando la recta que separa a los positivos de los negativos"
      ],
      "metadata": {
        "id": "GsDfkqXaZR5q"
      }
    },
    {
      "cell_type": "code",
      "source": [
        "# conexion al Google Drive\n",
        "from google.colab import drive\n",
        "drive.mount('/content/.drive')\n",
        "!mkdir -p \"/content/.drive/My Drive/DMA\"\n",
        "!mkdir -p \"/content/buckets\"\n",
        "!ln -s \"/content/.drive/My Drive/DMA\" /content/buckets/b1"
      ],
      "metadata": {
        "id": "_0XkHjieK2xD"
      },
      "execution_count": null,
      "outputs": []
    },
    {
      "cell_type": "code",
      "source": [
        "import numpy as np\n",
        "import matplotlib.pyplot as plt\n",
        "%matplotlib inline\n",
        "from IPython import display\n",
        "import time"
      ],
      "metadata": {
        "id": "ejqYzmGGLADY"
      },
      "execution_count": null,
      "outputs": []
    },
    {
      "cell_type": "code",
      "source": [
        "# Ejemplo, usted deberá generar sus propios puntos en el plano\n",
        "#  los que mandatoriamente deben ser separables por una recta\n",
        "#  los puntos traen incorporada la dimension artificial x0\n",
        "#  <x0, x1, x2>    donde    x0 = 1\n",
        "\n",
        "registros = [ [1, 0.7, 1.3], [1, 2.0, 1.1], [1, 1.0, 1.9],\n",
        "            [1, 3.0, 1.0], [1, 1.5, 2.1] ]\n",
        "clases = [0,0,0,1,1]\n"
      ],
      "metadata": {
        "id": "SpZ4JF8pLD11"
      },
      "execution_count": null,
      "outputs": []
    },
    {
      "cell_type": "code",
      "source": [
        "# Paso las listas a numpy\n",
        "X = np.array(registros)\n",
        "Y = np.array(clases)"
      ],
      "metadata": {
        "id": "g8vhhU-qLNz6"
      },
      "execution_count": null,
      "outputs": []
    },
    {
      "cell_type": "code",
      "source": [
        "# Tamano datos\n",
        "X_row = X.shape[0]\n",
        "X_col = X.shape[1]"
      ],
      "metadata": {
        "id": "lvJ_Peb2bLWj"
      },
      "execution_count": null,
      "outputs": []
    },
    {
      "cell_type": "code",
      "source": [
        "class perceptron_plot:\n",
        "    def __init__(self, X, Y, delay) -> None:\n",
        "        self.X = X\n",
        "        self.Y = Y\n",
        "        self.delay = delay\n",
        "        x1_min = np.min(X[:,1])\n",
        "        x2_min = np.min(X[:,2])\n",
        "        x1_max = np.max(X[:,1])\n",
        "        x2_max = np.max(X[:,2])\n",
        "        self.x1_min = x1_min - 0.75*(x1_max - x1_min)\n",
        "        self.x1_max = x1_max + 0.75*(x1_max - x1_min)\n",
        "        self.x2_min = x2_min - 0.75*(x2_max - x2_min)\n",
        "        self.x2_max = x2_max + 0.75*(x2_max - x2_min)\n",
        "        self.fig = plt.figure(figsize = (10,8))\n",
        "        self.ax = self.fig.subplots()\n",
        "        self.ax.set_xlim(self.x1_min, self.x1_max, auto=False)\n",
        "        self.ax.set_ylim(self.x2_min, self.x2_max, auto=False)\n",
        "\n",
        "    def graficar(self, W, epoch, fila) -> None:\n",
        "        display.clear_output(wait =True)\n",
        "        plt.cla()\n",
        "        #self.ax = self.fig.subplots()\n",
        "\n",
        "        self.ax.set_xlim(self.x1_min, self.x1_max)\n",
        "        self.ax.set_ylim(self.x2_min, self.x2_max)\n",
        "        plt.title( 'epoch ' + str(epoch) + '  reg ' + str(fila) )\n",
        "        # ploteo puntos positivos\n",
        "        self.ax.plot(self.X[self.Y==1,1], self.X[self.Y==1,2], 'o', color=\"green\", markersize=10)\n",
        "        # ploteo puntos negativos\n",
        "        self.ax.plot(self.X[self.Y==0,1], self.X[self.Y==0,2], 'o', color=\"blue\", markersize=10)\n",
        "\n",
        "        # Sobreploteo el punto que no coincidio\n",
        "        if(fila>=0):\n",
        "            self.ax.plot(self.X[fila,1], self.X[fila,2], 'o',\n",
        "                         color= ('green' if self.Y[fila]==1 else 'blue'),\n",
        "                         markersize= 12, markeredgecolor= 'red')\n",
        "\n",
        "        #dibujo le recta\n",
        "        vx2_min = -(W[1]*self.x1_min + W[0])/W[2]\n",
        "        vx2_max = -(W[1]*self.x1_max + W[0])/W[2]\n",
        "\n",
        "        self.ax.plot([self.x1_min, self.x1_max],\n",
        "                     [vx2_min, vx2_max],\n",
        "                     linewidth = 2,\n",
        "                     color = 'red',\n",
        "                     alpha = 0.5)\n",
        "\n",
        "        display.display(plt.gcf())\n",
        "        #plt.cla()\n",
        "        time.sleep(self.delay)\n",
        "\n",
        "\n",
        "    def graficarVarias(self, W, epoch, fila) -> None:\n",
        "        display.clear_output(wait =True)\n",
        "        plt.cla()\n",
        "        #self.ax = self.fig.subplots()\n",
        "\n",
        "        self.ax.set_xlim(self.x1_min, self.x1_max)\n",
        "        self.ax.set_ylim(self.x2_min, self.x2_max)\n",
        "        plt.title( 'epoch ' + str(epoch) + '  reg ' + str(fila))\n",
        "        # ploteo puntos positivos\n",
        "        self.ax.plot(self.X[self.Y==1,1], self.X[self.Y==1,2], 'o', color=\"green\", markersize=10)\n",
        "        # ploteo puntos negativos\n",
        "        self.ax.plot(self.X[self.Y==-1,1], self.X[self.Y==-1,2], 'o', color=\"blue\", markersize=10)\n",
        "        self.ax.plot(self.X[self.Y==0,1], self.X[self.Y==0,2], 'o', color=\"blue\", markersize=10)\n",
        "\n",
        "        # Sobreploteo el punto que no coincidio\n",
        "        if(fila>=0):\n",
        "            self.ax.plot(self.X[fila,1], self.X[fila,2], 'o',\n",
        "                         color= ('green' if self.Y[fila]==1 else 'blue'),\n",
        "                         markersize= 12, markeredgecolor= 'red')\n",
        "\n",
        "        # dibujo las rectas\n",
        "        for i in range(len(x0)):\n",
        "            #vx2_min = -(W[0,i]*self.x1_min + x0[i])/W[1,i]\n",
        "            #vx2_max = -(W[0,i]*self.x1_max + x0[i])/W[1,i]\n",
        "            vx2_min = -(W[i,1]*self.x1_min + W[i,0])/W[i,2]\n",
        "            vx2_max = -(W[i,1]*self.x1_max + W[i,0])/W[i,2]\n",
        "\n",
        "            self.ax.plot([self.x1_min, self.x1_max],\n",
        "                         [vx2_min, vx2_max],\n",
        "                         linewidth = 2,\n",
        "                         color = 'red',\n",
        "                         alpha = 0.5)\n",
        "\n",
        "        display.display(plt.gcf())\n",
        "        #plt.cla()\n",
        "        time.sleep(self.delay)\n"
      ],
      "metadata": {
        "id": "3bYjXyHqLQFe"
      },
      "execution_count": null,
      "outputs": []
    },
    {
      "cell_type": "code",
      "source": [
        "# Incializo la recta azarosamente\n",
        "\n",
        "# seteo de la semilla aleatoria\n",
        "np.random.seed(102191) # mi querida random seed para que las corridas sean reproducibles"
      ],
      "metadata": {
        "id": "Sr3jG9g7fPeU"
      },
      "execution_count": null,
      "outputs": []
    },
    {
      "cell_type": "code",
      "source": [
        "# inicializo < x0, W >\n",
        "W = np.array( np.random.uniform(-0.5, 0.5, size=X_col))"
      ],
      "metadata": {
        "id": "pWseyXcQLklN"
      },
      "execution_count": null,
      "outputs": []
    },
    {
      "cell_type": "code",
      "source": [
        "# Limite de lo que estoy dispuesto a trabajar\n",
        "epoch_limit = 500    # para terminar si no converge"
      ],
      "metadata": {
        "id": "2CvW7ZS8LoUt"
      },
      "execution_count": null,
      "outputs": []
    },
    {
      "cell_type": "code",
      "source": [
        "# controla la velocidad de convergencia\n",
        "learning_rate = 0.01"
      ],
      "metadata": {
        "id": "5iVeHxOJjFIM"
      },
      "execution_count": null,
      "outputs": []
    },
    {
      "cell_type": "code",
      "source": [
        "# controla cada cuanto se grafica un epoch\n",
        "demora_impresion = 1.0  # segundos"
      ],
      "metadata": {
        "id": "0M0JUxEgY2vh"
      },
      "execution_count": null,
      "outputs": []
    },
    {
      "cell_type": "code",
      "source": [
        "# inicializaciones del buble\n",
        "modificados = 1      # lo debo poner algo distinto a 0 la primera vez\n",
        "epoch = 0"
      ],
      "metadata": {
        "id": "s8oBAECNjKmt"
      },
      "execution_count": null,
      "outputs": []
    },
    {
      "cell_type": "code",
      "source": [
        "# el bucle principal del algoritmo de Rosenblatt\n",
        "\n",
        "grafico = perceptron_plot(X=X, Y=Y, delay=demora_impresion)\n",
        "\n",
        "# bucle principal del algoritmo de Rosenblatt\n",
        "# continuo mientras en la iteración anterior modifique algo  y NO llegué al límite de epochs\n",
        "while (modificados and (epoch < epoch_limit)):\n",
        "    epoch += 1\n",
        "    modificados = 0  # lo seteo en cero\n",
        "\n",
        "    # recorro siempre TODOS los registros de entrada\n",
        "    for fila in range(X_row):\n",
        "        # fila es el registro actual\n",
        "        x = X[fila,]\n",
        "        clase = Y[fila]\n",
        "        # calculo el estimulo suma, producto interno\n",
        "        estimulo = W @ x\n",
        "\n",
        "        # funcion de activacion, a lo bruto con un if\n",
        "        if(estimulo>0):\n",
        "            y = 1\n",
        "        else:\n",
        "            y = 0\n",
        "\n",
        "        # solo si la prediccion es incorrecta  actualizo  < x0, W >\n",
        "        gradiente = clase -y\n",
        "        if(gradiente != 0 ):\n",
        "            modificados += 1  # encontre un registro que esta mal clasificado\n",
        "            # actualizo W y x0\n",
        "            W = W + learning_rate * gradiente * x\n",
        "            grafico.graficar(W, epoch, fila) # actualizo grafico\n"
      ],
      "metadata": {
        "id": "G7Hd3D_FLs0Z"
      },
      "execution_count": null,
      "outputs": []
    },
    {
      "cell_type": "code",
      "source": [
        "grafico = perceptron_plot(X, Y, 0)\n",
        "grafico.graficar(W, epoch, -1)"
      ],
      "metadata": {
        "id": "4Zq2YUgNLwfd"
      },
      "execution_count": null,
      "outputs": []
    },
    {
      "cell_type": "code",
      "source": [
        "# la cantidad de epochs necesarias hasta encontrar una solucion\n",
        "print(\"Para converger hicieron falta epochs=\",epoch)"
      ],
      "metadata": {
        "id": "JB4k9EeALy-e"
      },
      "execution_count": null,
      "outputs": []
    },
    {
      "cell_type": "code",
      "source": [
        "# el vector solución W, que incluye a  X0\n",
        "print( \"La solucion es W = \", W)"
      ],
      "metadata": {
        "id": "6iqEFzBOexHx"
      },
      "execution_count": null,
      "outputs": []
    },
    {
      "cell_type": "code",
      "source": [
        "# la norma (longitud) del vector W\n",
        "print( ' ║W║  = ' , np.linalg.norm(W) )"
      ],
      "metadata": {
        "id": "VQli47hlszUN"
      },
      "execution_count": null,
      "outputs": []
    },
    {
      "cell_type": "markdown",
      "source": [],
      "metadata": {
        "id": "ECAt2tDwKzPb"
      }
    }
  ]
}